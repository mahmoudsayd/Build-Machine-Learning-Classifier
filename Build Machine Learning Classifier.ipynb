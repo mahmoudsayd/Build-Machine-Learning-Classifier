{
 "cells": [
  {
   "cell_type": "markdown",
   "metadata": {
    "id": "8UlIeBZtVSsS"
   },
   "source": [
    "**Guided Project: Build an Image Classifier with Python**"
   ]
  },
  {
   "cell_type": "code",
   "execution_count": null,
   "metadata": {
    "id": "wYZnT-OvYeRS"
   },
   "outputs": [],
   "source": [
    "#Here we load the Mnist data from Keras\n",
    "import tensorflow as tf\n",
    "(x_train, y_train), (x_test, y_test) = tf.keras.datasets.mnist.load_data()\n",
    "#get an idea of shape of train data\n",
    "x_train.shape"
   ]
  },
  {
   "cell_type": "code",
   "execution_count": null,
   "metadata": {
    "id": "5dHimADmYfN2"
   },
   "outputs": [],
   "source": [
    "#Here we preview an element of the data\n",
    "import matplotlib.pyplot as plt\n",
    " # Only use this if using iPython\n",
    "image_index = 333 # You may select anything up to 60,000\n",
    "print(y_train[image_index]) # To display the label number\n",
    "plt.imshow(x_train[image_index], cmap='Greys') #to show the image associated with label"
   ]
  },
  {
   "cell_type": "code",
   "execution_count": null,
   "metadata": {
    "id": "VwRdn1KnYfeB"
   },
   "outputs": [],
   "source": [
    "#Reshaping and preprocessing\n",
    "# Reshaping the array to 4-dims so that it can work with the Keras API\n",
    "x_train = x_train.reshape(x_train.shape[0], 28, 28, 1)\n",
    "x_test = x_test.reshape(x_test.shape[0], 28, 28, 1)\n",
    "input_shape = (28, 28, 1)\n",
    "# Making sure that the values are float so that we can get decimal points after division\n",
    "x_train = x_train.astype('float32')\n",
    "x_test = x_test.astype('float32')\n",
    "# Normalizing the RGB codes by dividing it to the max RGB value.\n",
    "x_train /= 255\n",
    "x_test /= 255\n",
    "print('x_train shape:', x_train.shape)\n",
    "print('Number of images in x_train', x_train.shape[0])\n",
    "print('Number of images in x_test', x_test.shape[0])"
   ]
  },
  {
   "cell_type": "code",
   "execution_count": null,
   "metadata": {
    "id": "3DbGfDE5Yfgu"
   },
   "outputs": [],
   "source": [
    "#Building to Keras\n",
    "# Importing the required Keras modules containing model and layers\n",
    "from tensorflow.keras.models import Sequential\n",
    "from tensorflow.keras.layers import Dense, Conv2D, Dropout, Flatten, MaxPooling2D\n",
    "# Creating a Sequential Model and adding the layers\n",
    "model = Sequential() #chosen Keras model\n",
    "model.add(Conv2D(28, kernel_size=(3,3), input_shape=input_shape)) #convolution\n",
    "model.add(MaxPooling2D(pool_size=(2, 2))) #pooling layer\n",
    "model.add(Flatten()) # Flattening the 2D arrays for fully connected layers\n",
    "model.add(Dense(64, activation=tf.nn.relu)) #dense layer relu\n",
    "model.add(Dropout(0.2))\n",
    "model.add(Dense(10,activation=tf.nn.softmax)) #dense layer softmax"
   ]
  },
  {
   "cell_type": "code",
   "execution_count": null,
   "metadata": {
    "id": "94nX1XPcYfje"
   },
   "outputs": [],
   "source": [
    "#Compiling and fitting the model\n",
    "model.compile(optimizer='adam', \n",
    "              loss='sparse_categorical_crossentropy', \n",
    "              metrics=['accuracy'])\n",
    "model.fit(x=x_train,y=y_train, epochs=20)"
   ]
  },
  {
   "cell_type": "code",
   "execution_count": null,
   "metadata": {
    "id": "8M-S-eLcYfl8"
   },
   "outputs": [],
   "source": [
    "#evaluating\n",
    "model.evaluate(x_test, y_test)"
   ]
  },
  {
   "cell_type": "code",
   "execution_count": null,
   "metadata": {
    "id": "ATyjCTNTYDhS"
   },
   "outputs": [],
   "source": [
    "#testing on test data\n",
    "image_index = 333 #choose random value up to 10000\n",
    "plt.imshow(x_test[image_index].reshape(28, 28),cmap='Greys')\n",
    "pred = model.predict(x_test[image_index].reshape(1, 28, 28, 1))\n",
    "print(pred.argmax())\n"
   ]
  },
  {
   "cell_type": "code",
   "execution_count": null,
   "metadata": {
    "id": "PFRoTp9RcRb9"
   },
   "outputs": [],
   "source": [
    "#Previewing the downloaded image \n",
    "import cv2\n",
    "import numpy as np\n",
    "from matplotlib import pyplot as plt\n",
    "# Load image as grayscale\n",
    "im = cv2.imread(\"last.PNG\")\n",
    "# Show image\n",
    "plt.imshow(im, cmap=\"gray\"), plt.axis(\"off\")\n",
    "plt.show()"
   ]
  },
  {
   "cell_type": "code",
   "execution_count": null,
   "metadata": {
    "id": "bGACxZxzZak3"
   },
   "outputs": [],
   "source": [
    "im.shape"
   ]
  },
  {
   "cell_type": "code",
   "execution_count": null,
   "metadata": {
    "id": "mpJ0m7vUShou"
   },
   "outputs": [],
   "source": [
    "from tensorflow.keras.preprocessing import image #Import Keras image processor"
   ]
  },
  {
   "cell_type": "code",
   "execution_count": null,
   "metadata": {
    "id": "e_A56tyHR7AW"
   },
   "outputs": [],
   "source": [
    "#load downloaded image and resze to target size\n",
    "img = image.load_img(\"last.PNG\", target_size=(28, 28),color_mode=\"grayscale\")\n"
   ]
  },
  {
   "cell_type": "code",
   "execution_count": null,
   "metadata": {
    "id": "5AJEG_1YTR_Z"
   },
   "outputs": [],
   "source": [
    "#convert loaded and resized image to array of numbers\n",
    "img_array = image.img_to_array(img)\n"
   ]
  },
  {
   "cell_type": "code",
   "execution_count": null,
   "metadata": {
    "id": "C2gMW1uwTSCo"
   },
   "outputs": [],
   "source": [
    "#Confirm new shape\n",
    "img_array.shape"
   ]
  },
  {
   "cell_type": "code",
   "execution_count": null,
   "metadata": {
    "id": "vPkagakpRDBL"
   },
   "outputs": [],
   "source": [
    "#Convert image array to 2D format that can be predicted upon\n",
    "img_array = img_array[:,:,0]\n",
    "img_array.shape"
   ]
  },
  {
   "cell_type": "code",
   "execution_count": null,
   "metadata": {
    "id": "eIIhNPm4UQRB"
   },
   "outputs": [],
   "source": [
    "plt.imshow(img_array,cmap=\"Greys\")"
   ]
  },
  {
   "cell_type": "code",
   "execution_count": null,
   "metadata": {
    "id": "rJ4e9zDwdFIV"
   },
   "outputs": [],
   "source": [
    "#invert loaded image array into same format as data used for training\n",
    "img_array=1-img_array\n",
    "plt.imshow(img_array,cmap=\"Greys\")"
   ]
  },
  {
   "cell_type": "markdown",
   "metadata": {
    "id": "KlGBZ5ho7v6D"
   },
   "source": [
    "# Prediction on sample image"
   ]
  },
  {
   "cell_type": "code",
   "execution_count": null,
   "metadata": {
    "id": "EwaWgsQwYfoe"
   },
   "outputs": [],
   "source": [
    "#Running Prediction on the image\n",
    "\n",
    "plt.imshow(img_array,cmap=\"Greys\")\n",
    "pred = model.predict(img_array.reshape(1, 28, 28, 1))\n",
    "print(pred.argmax())\n"
   ]
  }
 ],
 "metadata": {
  "colab": {
   "collapsed_sections": [],
   "name": "MNIST_Ike (2).ipynb",
   "provenance": []
  },
  "kernelspec": {
   "display_name": "Python 3 (ipykernel)",
   "language": "python",
   "name": "python3"
  },
  "language_info": {
   "codemirror_mode": {
    "name": "ipython",
    "version": 3
   },
   "file_extension": ".py",
   "mimetype": "text/x-python",
   "name": "python",
   "nbconvert_exporter": "python",
   "pygments_lexer": "ipython3",
   "version": "3.10.6"
  }
 },
 "nbformat": 4,
 "nbformat_minor": 1
}
